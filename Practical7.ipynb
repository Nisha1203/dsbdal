{
 "cells": [
  {
   "cell_type": "code",
   "execution_count": 25,
   "id": "54a3de63",
   "metadata": {},
   "outputs": [
    {
     "name": "stderr",
     "output_type": "stream",
     "text": [
      "[nltk_data] Downloading package punkt to\n",
      "[nltk_data]     C:\\Users\\Nishigandha\\AppData\\Roaming\\nltk_data...\n",
      "[nltk_data]   Package punkt is already up-to-date!\n",
      "[nltk_data] Downloading package wordnet to\n",
      "[nltk_data]     C:\\Users\\Nishigandha\\AppData\\Roaming\\nltk_data...\n",
      "[nltk_data]   Package wordnet is already up-to-date!\n",
      "[nltk_data] Downloading package averaged_perceptron_tagger to\n",
      "[nltk_data]     C:\\Users\\Nishigandha\\AppData\\Roaming\\nltk_data...\n",
      "[nltk_data]   Package averaged_perceptron_tagger is already up-to-\n",
      "[nltk_data]       date!\n",
      "[nltk_data] Downloading package stopwords to\n",
      "[nltk_data]     C:\\Users\\Nishigandha\\AppData\\Roaming\\nltk_data...\n",
      "[nltk_data]   Package stopwords is already up-to-date!\n"
     ]
    },
    {
     "data": {
      "text/plain": [
       "True"
      ]
     },
     "execution_count": 25,
     "metadata": {},
     "output_type": "execute_result"
    }
   ],
   "source": [
    "import nltk\n",
    "nltk.download('punkt') #required for tokenization\n",
    "nltk.download('wordnet')#required for Lemmatization\n",
    "nltk.download('averaged_perceptron_tagger')#required for pos tagging\n",
    "nltk.download('stopwords') #required for stopwords"
   ]
  },
  {
   "cell_type": "markdown",
   "id": "0758aa72",
   "metadata": {},
   "source": [
    "# Sample Text"
   ]
  },
  {
   "cell_type": "code",
   "execution_count": 5,
   "id": "39ca8abf",
   "metadata": {},
   "outputs": [],
   "source": [
    "text = 'Real madrid is set to win the UCL for the season . Benzema might win Balon dor . Salah might be the runner up'"
   ]
  },
  {
   "cell_type": "code",
   "execution_count": 8,
   "id": "ad28d9ae",
   "metadata": {},
   "outputs": [
    {
     "name": "stdout",
     "output_type": "stream",
     "text": [
      "['Real madrid is set to win the UCL for the season .', 'Benzema might win Balon dor .', 'Salah might be the runner up']\n"
     ]
    }
   ],
   "source": [
    "from nltk import sent_tokenize     #seperate para into sentence\n",
    "\n",
    "tokenized_sent=sent_tokenize(text)\n",
    "print(tokenized_sent)"
   ]
  },
  {
   "cell_type": "markdown",
   "id": "b83a0a60",
   "metadata": {},
   "source": [
    "# Tokenization"
   ]
  },
  {
   "cell_type": "code",
   "execution_count": 9,
   "id": "6f7ade04",
   "metadata": {},
   "outputs": [
    {
     "name": "stdout",
     "output_type": "stream",
     "text": [
      "['Real', 'madrid', 'is', 'set', 'to', 'win', 'the', 'UCL', 'for', 'the', 'season', '.', 'Benzema', 'might', 'win', 'Balon', 'dor', '.', 'Salah', 'might', 'be', 'the', 'runner', 'up']\n"
     ]
    }
   ],
   "source": [
    "from nltk import word_tokenize     #seperate seperate word\n",
    "\n",
    "tokenized_word=word_tokenize(text)\n",
    "print(tokenized_word)"
   ]
  },
  {
   "cell_type": "markdown",
   "id": "412943a6",
   "metadata": {},
   "source": [
    "# POS Tagging"
   ]
  },
  {
   "cell_type": "code",
   "execution_count": 12,
   "id": "76671504",
   "metadata": {},
   "outputs": [
    {
     "name": "stdout",
     "output_type": "stream",
     "text": [
      "POS Tags: [('Real', 'JJ'), ('madrid', 'NN'), ('is', 'VBZ'), ('set', 'VBN'), ('to', 'TO'), ('win', 'VB'), ('the', 'DT'), ('UCL', 'NNP'), ('for', 'IN'), ('the', 'DT'), ('season', 'NN'), ('.', '.'), ('Benzema', 'NNP'), ('might', 'MD'), ('win', 'VB'), ('Balon', 'NNP'), ('dor', 'NN'), ('.', '.'), ('Salah', 'NNP'), ('might', 'MD'), ('be', 'VB'), ('the', 'DT'), ('runner', 'NN'), ('up', 'RP')]\n"
     ]
    }
   ],
   "source": [
    "# POS tagging\n",
    "pos_tags = nltk.pos_tag(tokenized_word)  #The pos_tag() function takes the list of tokens as input and assigns \n",
    "                                         #POS tags to each token based on its grammatical category.\n",
    "print(\"POS Tags:\", pos_tags)"
   ]
  },
  {
   "cell_type": "markdown",
   "id": "5692c85a",
   "metadata": {},
   "source": [
    "# Stopword"
   ]
  },
  {
   "cell_type": "markdown",
   "id": "2536e3ae",
   "metadata": {},
   "source": [
    "We use the set() function to create a set data structure from the list of stop words retrieved \n",
    "using stopwords.words(\"english\"). \n",
    "\n",
    "The argument \"english\" specifies that we want the stop words for the English language."
   ]
  },
  {
   "cell_type": "code",
   "execution_count": 13,
   "id": "7bbeda3e",
   "metadata": {},
   "outputs": [
    {
     "name": "stdout",
     "output_type": "stream",
     "text": [
      "{'than', 'so', 'haven', 'ain', 'now', 'only', 'how', 'at', 'more', 'don', 'because', 'yourself', 'own', 'through', 'of', \"isn't\", 'has', 'been', 'won', 'will', 'didn', 'you', 'where', \"hasn't\", 's', 'were', \"mustn't\", \"couldn't\", 'hers', 'during', \"should've\", \"weren't\", 've', 'his', 'from', 'your', 'or', 'some', \"aren't\", 'yours', 'weren', 'll', 'into', 'it', \"doesn't\", 'isn', 'if', \"wasn't\", 'about', 'over', 'again', 'under', \"shouldn't\", 'shan', 'wouldn', \"don't\", 'myself', 'her', 'very', 'hasn', 'wasn', 'above', 'few', 'we', 'ma', 'mightn', 'this', \"that'll\", 'having', \"haven't\", 'mustn', 'me', 'nor', 'too', 'most', 'between', 'then', 'is', 'herself', 'being', 'that', 'be', 'himself', 'until', 'both', 'below', 'its', 'against', 'aren', 'my', 'had', 'them', 'd', 'which', 'whom', 'to', 'doesn', 'these', \"didn't\", \"wouldn't\", 'needn', 'ourselves', \"needn't\", 'after', 'further', 'for', 'not', 'on', 'theirs', 'but', 'themselves', 'couldn', 'there', 'i', 'once', 'who', 'any', 'm', 'have', 'off', \"won't\", 'an', 'are', 'they', 'as', 'hadn', 'and', 'down', 'yourselves', 'him', 'why', 'by', 'in', 'y', \"you'll\", 'while', 'our', 'out', 'does', 'can', \"she's\", 'itself', 'here', \"shan't\", 'when', 'no', \"you'd\", 'such', 'before', \"you've\", 'did', \"mightn't\", 'the', 'shouldn', 'he', \"you're\", 'what', 'am', 'do', 'same', 'she', \"it's\", 'up', 'a', 'just', \"hadn't\", 'doing', 'those', 'each', 'other', 're', 'should', 'was', 'o', 't', 'ours', 'with', 'all', 'their'}\n"
     ]
    }
   ],
   "source": [
    "from nltk.corpus import stopwords              \n",
    "stop_words=set(stopwords.words(\"english\"))\n",
    "print(stop_words)"
   ]
  },
  {
   "cell_type": "markdown",
   "id": "4bf3856f",
   "metadata": {},
   "source": [
    "# Stopwords Removal"
   ]
  },
  {
   "cell_type": "markdown",
   "id": "dce81e49",
   "metadata": {},
   "source": [
    "1 filtered_sent = []: An empty list named filtered_sent is initialized to store the tokens that are not stop words.\n",
    "\n",
    "2 for w in tokenized_word:: This loop iterates over each token in the tokenized_word list.\n",
    "\n",
    "3 if w not in stop_words:: This condition checks if the current token w is not present in the stop_words set.\n",
    "\n",
    "4 If the token is not a stop word, filtered_sent.append(w) adds the token to the filtered_sent list.\n",
    "\n",
    "5 After the loop completes, filtered_sent contains the tokens that are not stop words.\n",
    "\n",
    "The code then prints the original tokenized sentence (tokenized_word) and \n",
    "the filtered sentence (filtered_sent) using the print function."
   ]
  },
  {
   "cell_type": "code",
   "execution_count": 15,
   "id": "b8627444",
   "metadata": {},
   "outputs": [
    {
     "name": "stdout",
     "output_type": "stream",
     "text": [
      "Tokenized Sentence: ['Real', 'madrid', 'is', 'set', 'to', 'win', 'the', 'UCL', 'for', 'the', 'season', '.', 'Benzema', 'might', 'win', 'Balon', 'dor', '.', 'Salah', 'might', 'be', 'the', 'runner', 'up']\n",
      "\n",
      "Filterd Sentence: ['Real', 'madrid', 'set', 'win', 'UCL', 'season', '.', 'Benzema', 'might', 'win', 'Balon', 'dor', '.', 'Salah', 'might', 'runner']\n"
     ]
    }
   ],
   "source": [
    "filtered_sent=[]\n",
    "for w in tokenized_word:\n",
    "    if w not in stop_words:\n",
    "        filtered_sent.append(w)\n",
    "print(\"Tokenized Sentence:\",tokenized_word)\n",
    "print(\"\\nFilterd Sentence:\",filtered_sent)"
   ]
  },
  {
   "cell_type": "markdown",
   "id": "4f150e79",
   "metadata": {},
   "source": [
    "# Stemming"
   ]
  },
  {
   "cell_type": "markdown",
   "id": "52f3f858",
   "metadata": {},
   "source": [
    "1. stemmer = PorterStemmer(): This line initializes an instance of the PorterStemmer from the nltk.stem module.\n",
    "\n",
    "2. stemmed_words = []: This line initializes an empty list named stemmed_words that will store the stemmed words.\n",
    "\n",
    "3. The loop iterates over each word w in the filtered_sent list, which contains the words after stop word removal.\n",
    "\n",
    "4. stemmer.stem(w) applies the stemming process to each word w using the stem() method of the stemmer object. \n",
    "   The stemmed word is obtained.\n",
    "\n",
    "5. The stemmed word is then appended to the stemmed_words list using stemmed_words.append(stemmer.stem(w))."
   ]
  },
  {
   "cell_type": "code",
   "execution_count": 24,
   "id": "2231ec16",
   "metadata": {},
   "outputs": [
    {
     "name": "stdout",
     "output_type": "stream",
     "text": [
      "Filtered Sentence: ['Real', 'madrid', 'set', 'win', 'UCL', 'season', '.', 'Benzema', 'might', 'win', 'Balon', 'dor', '.', 'Salah', 'might', 'runner']\n",
      "\n",
      "Stemmed Sentence: ['real', 'madrid', 'set', 'win', 'ucl', 'season', '.', 'benzema', 'might', 'win', 'balon', 'dor', '.', 'salah', 'might', 'runner']\n"
     ]
    }
   ],
   "source": [
    "from nltk.stem import PorterStemmer\n",
    "\n",
    "stemmer = PorterStemmer()\n",
    "\n",
    "stemmed_words=[]\n",
    "for w in filtered_sent:\n",
    "    stemmed_words.append(stemmer.stem(w))\n",
    "    \n",
    "print(\"Filtered Sentence:\",filtered_sent)\n",
    "print(\"\\nStemmed Sentence:\",stemmed_words)"
   ]
  },
  {
   "cell_type": "markdown",
   "id": "94c3ab2f",
   "metadata": {},
   "source": [
    "# Lemmatization"
   ]
  },
  {
   "cell_type": "markdown",
   "id": "56b1181a",
   "metadata": {},
   "source": [
    "1.initialize an instance of it named lem to perform lemmatization.\n",
    "\n",
    "2.initialize an instance of it named stem to perform stemming.\n",
    "\n",
    "3.lemma_word_list = []: This line initializes an empty list named lemma_word_list that will store the lemmatized words.\n",
    "\n",
    "4.The loop iterates over each word in the stemmed_words list, which contains the stemmed words obtained from the previous code. For each word, the following steps are performed:\n",
    "\n",
    "5 lemmat = lem.lemmatize(word, \"v\"): The lemmatize() method of the lem object is used to lemmatize the word, considering it as a verb (\"v\"). \n",
    "\n",
    "The resulting lemma is stored in the lemmat variable.\n",
    "\n",
    "lemma_word_list.append(lemmat): The lemmatized word is appended to the lemma_word_list list.\n"
   ]
  },
  {
   "cell_type": "code",
   "execution_count": 27,
   "id": "da6f60f9",
   "metadata": {},
   "outputs": [
    {
     "name": "stderr",
     "output_type": "stream",
     "text": [
      "[nltk_data] Downloading package wordnet to\n",
      "[nltk_data]     C:\\Users\\Nishigandha\\AppData\\Roaming\\nltk_data...\n",
      "[nltk_data]   Package wordnet is already up-to-date!\n"
     ]
    },
    {
     "name": "stdout",
     "output_type": "stream",
     "text": [
      "Lemmatized Word: ['real', 'madrid', 'set', 'win', 'ucl', 'season', '.', 'benzema', 'might', 'win', 'balon', 'dor', '.', 'salah', 'might', 'runner']\n",
      "\n",
      "Stemmed Word: ['real', 'madrid', 'set', 'win', 'ucl', 'season', '.', 'benzema', 'might', 'win', 'balon', 'dor', '.', 'salah', 'might', 'runner']\n"
     ]
    }
   ],
   "source": [
    "import nltk\n",
    "nltk.download('wordnet') #necessary for lemmatization.\n",
    "\n",
    "from nltk.stem import WordNetLemmatizer\n",
    "lem = WordNetLemmatizer()\n",
    "\n",
    "from nltk.stem import PorterStemmer\n",
    "stem = PorterStemmer()\n",
    "\n",
    "lemma_word_list = []\n",
    "\n",
    "for word in stemmed_words:\n",
    "    lemmat = lem.lemmatize(word,\"v\")\n",
    "    lemma_word_list.append(lemmat)\n",
    "    \n",
    "\n",
    "print(\"Lemmatized Word:\",lemma_word_list)\n",
    "print(\"\\nStemmed Word:\",stemmed_words)"
   ]
  },
  {
   "cell_type": "markdown",
   "id": "3aa2b5f1",
   "metadata": {},
   "source": [
    "# Frequency"
   ]
  },
  {
   "cell_type": "code",
   "execution_count": 33,
   "id": "e007878d",
   "metadata": {},
   "outputs": [
    {
     "name": "stdout",
     "output_type": "stream",
     "text": [
      "<FreqDist with 13 samples and 16 outcomes>\n"
     ]
    }
   ],
   "source": [
    "from nltk.probability import FreqDist\n",
    "fdist = FreqDist(lemma_word_list)\n",
    "print(fdist)"
   ]
  },
  {
   "cell_type": "code",
   "execution_count": 34,
   "id": "96aeca05",
   "metadata": {},
   "outputs": [
    {
     "data": {
      "text/plain": [
       "[('win', 2), ('.', 2)]"
      ]
     },
     "execution_count": 34,
     "metadata": {},
     "output_type": "execute_result"
    }
   ],
   "source": [
    "fdist.most_common(2)"
   ]
  },
  {
   "cell_type": "code",
   "execution_count": null,
   "id": "e552f3e1",
   "metadata": {},
   "outputs": [],
   "source": []
  }
 ],
 "metadata": {
  "kernelspec": {
   "display_name": "Python 3 (ipykernel)",
   "language": "python",
   "name": "python3"
  },
  "language_info": {
   "codemirror_mode": {
    "name": "ipython",
    "version": 3
   },
   "file_extension": ".py",
   "mimetype": "text/x-python",
   "name": "python",
   "nbconvert_exporter": "python",
   "pygments_lexer": "ipython3",
   "version": "3.11.3"
  }
 },
 "nbformat": 4,
 "nbformat_minor": 5
}
