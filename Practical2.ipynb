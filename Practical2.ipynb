{
 "cells": [
  {
   "cell_type": "code",
   "execution_count": 1,
   "id": "9db0c85b",
   "metadata": {},
   "outputs": [
    {
     "name": "stdout",
     "output_type": "stream",
     "text": [
      "Requirement already satisfied: numpy in c:\\users\\nishigandha\\appdata\\local\\programs\\python\\python311\\lib\\site-packages (1.24.3)\n",
      "Requirement already satisfied: pandas in c:\\users\\nishigandha\\appdata\\local\\programs\\python\\python311\\lib\\site-packages (2.0.1)\n",
      "Requirement already satisfied: python-dateutil>=2.8.2 in c:\\users\\nishigandha\\appdata\\local\\programs\\python\\python311\\lib\\site-packages (from pandas) (2.8.2)\n",
      "Requirement already satisfied: pytz>=2020.1 in c:\\users\\nishigandha\\appdata\\local\\programs\\python\\python311\\lib\\site-packages (from pandas) (2023.3)\n",
      "Requirement already satisfied: tzdata>=2022.1 in c:\\users\\nishigandha\\appdata\\local\\programs\\python\\python311\\lib\\site-packages (from pandas) (2023.3)\n",
      "Requirement already satisfied: numpy>=1.21.0 in c:\\users\\nishigandha\\appdata\\local\\programs\\python\\python311\\lib\\site-packages (from pandas) (1.24.3)\n",
      "Requirement already satisfied: six>=1.5 in c:\\users\\nishigandha\\appdata\\local\\programs\\python\\python311\\lib\\site-packages (from python-dateutil>=2.8.2->pandas) (1.16.0)\n"
     ]
    },
    {
     "name": "stderr",
     "output_type": "stream",
     "text": [
      "ERROR: Could not find a version that satisfies the requirement random (from versions: none)\n",
      "ERROR: No matching distribution found for random\n"
     ]
    },
    {
     "name": "stdout",
     "output_type": "stream",
     "text": [
      "Requirement already satisfied: scipy in c:\\users\\nishigandha\\appdata\\local\\programs\\python\\python311\\lib\\site-packages (1.10.1)\n",
      "Requirement already satisfied: numpy<1.27.0,>=1.19.5 in c:\\users\\nishigandha\\appdata\\local\\programs\\python\\python311\\lib\\site-packages (from scipy) (1.24.3)\n",
      "Requirement already satisfied: seaborn in c:\\users\\nishigandha\\appdata\\local\\programs\\python\\python311\\lib\\site-packages (0.12.2)\n",
      "Requirement already satisfied: numpy!=1.24.0,>=1.17 in c:\\users\\nishigandha\\appdata\\local\\programs\\python\\python311\\lib\\site-packages (from seaborn) (1.24.3)\n",
      "Requirement already satisfied: pandas>=0.25 in c:\\users\\nishigandha\\appdata\\local\\programs\\python\\python311\\lib\\site-packages (from seaborn) (2.0.1)\n",
      "Requirement already satisfied: matplotlib!=3.6.1,>=3.1 in c:\\users\\nishigandha\\appdata\\local\\programs\\python\\python311\\lib\\site-packages (from seaborn) (3.7.1)\n",
      "Requirement already satisfied: contourpy>=1.0.1 in c:\\users\\nishigandha\\appdata\\local\\programs\\python\\python311\\lib\\site-packages (from matplotlib!=3.6.1,>=3.1->seaborn) (1.0.7)\n",
      "Requirement already satisfied: cycler>=0.10 in c:\\users\\nishigandha\\appdata\\local\\programs\\python\\python311\\lib\\site-packages (from matplotlib!=3.6.1,>=3.1->seaborn) (0.11.0)\n",
      "Requirement already satisfied: fonttools>=4.22.0 in c:\\users\\nishigandha\\appdata\\local\\programs\\python\\python311\\lib\\site-packages (from matplotlib!=3.6.1,>=3.1->seaborn) (4.39.4)\n",
      "Requirement already satisfied: kiwisolver>=1.0.1 in c:\\users\\nishigandha\\appdata\\local\\programs\\python\\python311\\lib\\site-packages (from matplotlib!=3.6.1,>=3.1->seaborn) (1.4.4)\n",
      "Requirement already satisfied: packaging>=20.0 in c:\\users\\nishigandha\\appdata\\local\\programs\\python\\python311\\lib\\site-packages (from matplotlib!=3.6.1,>=3.1->seaborn) (23.1)\n",
      "Requirement already satisfied: pillow>=6.2.0 in c:\\users\\nishigandha\\appdata\\local\\programs\\python\\python311\\lib\\site-packages (from matplotlib!=3.6.1,>=3.1->seaborn) (9.5.0)\n",
      "Requirement already satisfied: pyparsing>=2.3.1 in c:\\users\\nishigandha\\appdata\\local\\programs\\python\\python311\\lib\\site-packages (from matplotlib!=3.6.1,>=3.1->seaborn) (3.0.9)\n",
      "Requirement already satisfied: python-dateutil>=2.7 in c:\\users\\nishigandha\\appdata\\local\\programs\\python\\python311\\lib\\site-packages (from matplotlib!=3.6.1,>=3.1->seaborn) (2.8.2)\n",
      "Requirement already satisfied: pytz>=2020.1 in c:\\users\\nishigandha\\appdata\\local\\programs\\python\\python311\\lib\\site-packages (from pandas>=0.25->seaborn) (2023.3)\n",
      "Requirement already satisfied: tzdata>=2022.1 in c:\\users\\nishigandha\\appdata\\local\\programs\\python\\python311\\lib\\site-packages (from pandas>=0.25->seaborn) (2023.3)\n",
      "Requirement already satisfied: six>=1.5 in c:\\users\\nishigandha\\appdata\\local\\programs\\python\\python311\\lib\\site-packages (from python-dateutil>=2.7->matplotlib!=3.6.1,>=3.1->seaborn) (1.16.0)\n",
      "Requirement already satisfied: names in c:\\users\\nishigandha\\appdata\\local\\programs\\python\\python311\\lib\\site-packages (0.3.0)\n"
     ]
    }
   ],
   "source": [
    "# essentials\n",
    "!pip install numpy\n",
    "!pip install pandas\n",
    "!pip install random\n",
    "!pip install scipy\n",
    "!pip install seaborn\n",
    "!pip install names"
   ]
  },
  {
   "cell_type": "code",
   "execution_count": 2,
   "id": "fe215b38",
   "metadata": {},
   "outputs": [],
   "source": [
    "import random\n",
    "import pandas as pd\n",
    "import numpy as np\n",
    "import matplotlib.pyplot as plt\n",
    "import seaborn as sns\n",
    "import names\n",
    "from scipy import stats"
   ]
  },
  {
   "cell_type": "code",
   "execution_count": 3,
   "id": "a55332a8",
   "metadata": {},
   "outputs": [
    {
     "name": "stdout",
     "output_type": "stream",
     "text": [
      "Random Iterations: 520\n",
      "520 names inserted!\n"
     ]
    }
   ],
   "source": [
    "# We will use 'n' random iteration to define the size of our dataset which will be somewhere 250 to 1000 entries\n",
    "# This will ensure that each time the dataset generated will be different from the previous one\n",
    "# Hence making the code and output for each individual run a bit different from previous ones.\n",
    "\n",
    "random_iteration = random.randint(250,1000)\n",
    "#The given code generates a random number between 250 and 1000 (inclusive) and assigns it to the variable random_iteration. \n",
    "#It then prints the value of random_iteration.\n",
    "print(\"Random Iterations: {}\".format(random_iteration))\n",
    "\n",
    "# The array 'student_name' will store randomly generated student names\n",
    "student_name = []\n",
    "for i in range(random_iteration):\n",
    "    student_first_name = names.get_first_name()    # Generate random first name of student\n",
    "    student_last_name = ' '+names.get_last_name()  # Generate random last name of student\n",
    "    \n",
    "    student_full_name = student_first_name + student_last_name  # Concatenate First and Last name\n",
    "    student_name.append(student_full_name)   # Append Full name into 'student_name' array\n",
    "    \n",
    "print(\"{} names inserted!\".format(len(student_name)))"
   ]
  },
  {
   "cell_type": "code",
   "execution_count": 4,
   "id": "67be158c",
   "metadata": {},
   "outputs": [],
   "source": [
    "\n",
    "# The array 'student_dept' will contain the department name to which student belongs\n",
    "\n",
    "student_dept = []\n",
    "department_options = ['ENTC', 'COMPUTER', 'MECHANICAL','COMPUTER']   # Student can only belong to these Departments\n",
    "# One may choose to add 'n' number of departments as per the requirements\n",
    "\n",
    "for i in range(random_iteration):\n",
    "    student_dept.append(random.choice(department_options))\n",
    "    # This bit of code chooses/assigns random department to student from available option (department_option)"
   ]
  },
  {
   "cell_type": "markdown",
   "id": "b6880773",
   "metadata": {},
   "source": [
    "If 'random_chance' is 0, it means the student was absent or didn't take the exam. In this case, another random number 'random_chance_2' is generated between 0 and 1 to decide whether to assign a mark or NaN (Not a Number) value. If 'random_chance_2' is 0, a random mark between 1 and 35 is assigned. Otherwise, NaN is appended to the list."
   ]
  },
  {
   "cell_type": "code",
   "execution_count": 42,
   "id": "12fc77b3",
   "metadata": {},
   "outputs": [],
   "source": [
    "# The array 'student_marks_phy' holds marks for each individual student in Physics\n",
    "\n",
    "student_marks_phy = []\n",
    "for i in range(random_iteration):       # If random iterator decides to give 250 records, we insert 250 records only\n",
    "    random_chance = random.randint(0,3)\n",
    "    \n",
    "    if random_chance == 0:\n",
    "        random_chance_2 = random.randint(0,1)\n",
    "        if random_chance_2 == 0:\n",
    "            student_marks_phy.append(random.randint(1,35))\n",
    "        else:\n",
    "            student_marks_phy.append(np.NaN)\n",
    "\n",
    "    elif random_chance == 1:\n",
    "        student_marks_phy.append(random.randint(36,55))\n",
    "\n",
    "    elif random_chance == 2:\n",
    "        student_marks_phy.append(random.randint(56,75))\n",
    "\n",
    "    elif random_chance == 3:\n",
    "        student_marks_phy.append(random.randint(76,100))\n",
    "\n",
    "    else:\n",
    "        student_marks_phy.append(random.randint(0,100))\n",
    "        \n",
    "# The 'IF-ELSE' statements are self explanatory\n",
    "# There we randomly add NaN values to our dataset, since it's a requirement\n"
   ]
  },
  {
   "cell_type": "code",
   "execution_count": 6,
   "id": "aa5ce2c5",
   "metadata": {},
   "outputs": [],
   "source": [
    "# The array 'student_marks_math' holds marks for each individual student in Mathematics\n",
    "\n",
    "student_marks_math = []\n",
    "for i in range(random_iteration):\n",
    "    random_chance = random.randint(0,3)\n",
    "    if random_chance == 0:\n",
    "        student_marks_math.append(random.randint(1,35))\n",
    "        \n",
    "    elif random_chance == 1:\n",
    "        random_chance_2 = random.randint(0,1)\n",
    "        if random_chance_2 == 0:\n",
    "            student_marks_math.append(round(random.uniform(35,55),1))\n",
    "        else:\n",
    "            student_marks_math.append(np.NaN)\n",
    "            \n",
    "    elif random_chance == 2:\n",
    "        student_marks_math.append(random.randint(56,75))\n",
    "\n",
    "    elif random_chance == 3:\n",
    "        student_marks_math.append(random.randint(76,100))\n",
    "\n",
    "    else:\n",
    "        student_marks_math.append(random.randint(0,100))"
   ]
  },
  {
   "cell_type": "code",
   "execution_count": 7,
   "id": "bd5630b8",
   "metadata": {},
   "outputs": [],
   "source": [
    "# The array 'student_marks_chem' holds marks for each individual student in Chemistry\n",
    "\n",
    "student_marks_chem = []\n",
    "for i in range(random_iteration):\n",
    "    random_chance = random.randint(0,3)\n",
    "    \n",
    "    if random_chance == 0:\n",
    "        student_marks_chem.append(random.randint(1,35))\n",
    "\n",
    "    elif random_chance == 1:\n",
    "        student_marks_chem.append(random.randint(36,55))\n",
    "\n",
    "    elif random_chance == 2:\n",
    "        student_marks_chem.append(round(random.uniform(56,75),1))\n",
    "\n",
    "    elif random_chance == 3:\n",
    "        random_chance_2 = random.randint(0,1)\n",
    "        if random_chance_2 == 0:\n",
    "            student_marks_chem.append(random.randint(76,100))\n",
    "        else:\n",
    "            student_marks_chem.append(random.randint(150,300))\n",
    "\n",
    "    else:\n",
    "        student_marks_chem.append(round(random.uniform(0,100),1))"
   ]
  },
  {
   "cell_type": "code",
   "execution_count": 8,
   "id": "94bf8d61",
   "metadata": {},
   "outputs": [],
   "source": [
    "# # The array 'student_marks_ai' holds marks for each individual student in AI\n",
    "\n",
    "student_marks_ai = []\n",
    "for i in range(random_iteration):\n",
    "    random_chance = random.randint(0,3)\n",
    "    \n",
    "    if random_chance == 0:\n",
    "        student_marks_ai.append(round(random.uniform(1,35),1))\n",
    "\n",
    "    elif random_chance == 1:\n",
    "        random_chance_2 = random.randint(0,1)\n",
    "        if random_chance_2 == 0:\n",
    "            student_marks_ai.append(random.randint(36,55))\n",
    "        else:\n",
    "            student_marks_ai.append(np.NaN)\n",
    "\n",
    "    elif random_chance == 2:\n",
    "        student_marks_ai.append(random.randint(56,75))\n",
    "\n",
    "    elif random_chance == 3:\n",
    "        student_marks_ai.append(random.randint(76,100))\n",
    "\n",
    "    else:\n",
    "        student_marks_ai.append(round(random.uniform(0,100),1))"
   ]
  },
  {
   "cell_type": "code",
   "execution_count": 9,
   "id": "1d22d21f",
   "metadata": {},
   "outputs": [],
   "source": [
    "# This array will hold student term work marks\n",
    "# This too will be randomly generated from the scale of 1-10\n",
    "\n",
    "student_term_work = []\n",
    "for i in range(random_iteration):\n",
    "    student_term_work.append(random.randint(1,10))"
   ]
  },
  {
   "cell_type": "code",
   "execution_count": 10,
   "id": "b1216597",
   "metadata": {},
   "outputs": [],
   "source": [
    "# The array 'student_birthdate' will hold student DOB\n",
    "# The array 'possible_date' will contain all dates betwenn 2001-01-01 to 2003-12-31\n",
    "\n",
    "student_birthdate = []\n",
    "\n",
    "possible_date = []\n",
    "\n",
    "for year in range(1,4):   # Begin with year 2001, iterate till 2003\n",
    "    temp = []\n",
    "    for month in range (1,13):   # Begin with month 01, iterate till 12\n",
    "        if month != 2 and month%2==1:  # If month is not 2 and it belongs to 1,3,5... then it has 31 days\n",
    "            for days in range(1,31):\n",
    "                test = '200'+str(year)+'-'+str(month)+'-'+str(days)\n",
    "                possible_date.append(test)\n",
    "        elif month==2 and month%2==0:  # If month is 2 (FEB), add only 28 days\n",
    "            for days in range(1,29):\n",
    "                test = '200'+str(year)+'-'+str(month)+'-'+str(days)\n",
    "                possible_date.append(test)\n",
    "        else:    # Remaining months belonging to 4,6,8... will have 30 days\n",
    "            for days in range(1,31):\n",
    "                test = '200'+str(year)+'-'+str(month)+'-'+str(days)\n",
    "                possible_date.append(test)\n",
    "\n",
    "# The code below will choose a random date from 'possible_date' as DOB of student\n",
    "for i in range(random_iteration):\n",
    "    student_birthdate.append(random.choice(possible_date))"
   ]
  },
  {
   "cell_type": "code",
   "execution_count": 11,
   "id": "10836c83",
   "metadata": {},
   "outputs": [],
   "source": [
    "# Dictionay = {'column name': array values ... }\n",
    "\n",
    "finalized_dict = {'Student Name':student_name,\n",
    "                  'Department':student_dept,\n",
    "                 'Physics':student_marks_phy,\n",
    "                 'Mathematics':student_marks_math,\n",
    "                 'Chemistry':student_marks_chem,\n",
    "                 'AI':student_marks_ai,\n",
    "                 'Term Work':student_term_work,\n",
    "                 'DOB':student_birthdate}"
   ]
  },
  {
   "cell_type": "code",
   "execution_count": 12,
   "id": "3a42977d",
   "metadata": {},
   "outputs": [],
   "source": [
    "# We can also choose to save this dictionary as CSV and then work on the CSV\n",
    "# Rather we choose to convert dictionary directly to dataframe, hence saving disk space and hasle\n",
    "\n",
    "df = pd.DataFrame.from_dict(finalized_dict)\n",
    "\n",
    "# Saving dataframe as csv\n",
    "df.to_csv('Academic Performance.csv')\n",
    "\n",
    "# The CSV file will be saved in the same directory where the source code belongs"
   ]
  },
  {
   "cell_type": "code",
   "execution_count": 13,
   "id": "d5a0be2b",
   "metadata": {},
   "outputs": [
    {
     "data": {
      "text/html": [
       "<div>\n",
       "<style scoped>\n",
       "    .dataframe tbody tr th:only-of-type {\n",
       "        vertical-align: middle;\n",
       "    }\n",
       "\n",
       "    .dataframe tbody tr th {\n",
       "        vertical-align: top;\n",
       "    }\n",
       "\n",
       "    .dataframe thead th {\n",
       "        text-align: right;\n",
       "    }\n",
       "</style>\n",
       "<table border=\"1\" class=\"dataframe\">\n",
       "  <thead>\n",
       "    <tr style=\"text-align: right;\">\n",
       "      <th></th>\n",
       "      <th>Student Name</th>\n",
       "      <th>Department</th>\n",
       "      <th>Physics</th>\n",
       "      <th>Mathematics</th>\n",
       "      <th>Chemistry</th>\n",
       "      <th>AI</th>\n",
       "      <th>Term Work</th>\n",
       "      <th>DOB</th>\n",
       "    </tr>\n",
       "  </thead>\n",
       "  <tbody>\n",
       "    <tr>\n",
       "      <th>0</th>\n",
       "      <td>Roy Deal</td>\n",
       "      <td>MECHANICAL</td>\n",
       "      <td>61.0</td>\n",
       "      <td>68.0</td>\n",
       "      <td>53.0</td>\n",
       "      <td>73.0</td>\n",
       "      <td>10</td>\n",
       "      <td>2003-10-21</td>\n",
       "    </tr>\n",
       "    <tr>\n",
       "      <th>1</th>\n",
       "      <td>Jayne Zamudio</td>\n",
       "      <td>MECHANICAL</td>\n",
       "      <td>53.0</td>\n",
       "      <td>76.0</td>\n",
       "      <td>71.4</td>\n",
       "      <td>51.0</td>\n",
       "      <td>6</td>\n",
       "      <td>2001-10-21</td>\n",
       "    </tr>\n",
       "    <tr>\n",
       "      <th>2</th>\n",
       "      <td>Susan Giron</td>\n",
       "      <td>MECHANICAL</td>\n",
       "      <td>88.0</td>\n",
       "      <td>37.3</td>\n",
       "      <td>9.0</td>\n",
       "      <td>NaN</td>\n",
       "      <td>10</td>\n",
       "      <td>2001-8-11</td>\n",
       "    </tr>\n",
       "    <tr>\n",
       "      <th>3</th>\n",
       "      <td>Paula Quintana</td>\n",
       "      <td>ENTC</td>\n",
       "      <td>NaN</td>\n",
       "      <td>NaN</td>\n",
       "      <td>10.0</td>\n",
       "      <td>72.0</td>\n",
       "      <td>7</td>\n",
       "      <td>2003-3-19</td>\n",
       "    </tr>\n",
       "    <tr>\n",
       "      <th>4</th>\n",
       "      <td>Rebekah Francis</td>\n",
       "      <td>MECHANICAL</td>\n",
       "      <td>31.0</td>\n",
       "      <td>41.3</td>\n",
       "      <td>9.0</td>\n",
       "      <td>74.0</td>\n",
       "      <td>6</td>\n",
       "      <td>2002-2-12</td>\n",
       "    </tr>\n",
       "    <tr>\n",
       "      <th>...</th>\n",
       "      <td>...</td>\n",
       "      <td>...</td>\n",
       "      <td>...</td>\n",
       "      <td>...</td>\n",
       "      <td>...</td>\n",
       "      <td>...</td>\n",
       "      <td>...</td>\n",
       "      <td>...</td>\n",
       "    </tr>\n",
       "    <tr>\n",
       "      <th>515</th>\n",
       "      <td>Michael Greene</td>\n",
       "      <td>COMPUTER</td>\n",
       "      <td>NaN</td>\n",
       "      <td>NaN</td>\n",
       "      <td>288.0</td>\n",
       "      <td>73.0</td>\n",
       "      <td>4</td>\n",
       "      <td>2002-5-5</td>\n",
       "    </tr>\n",
       "    <tr>\n",
       "      <th>516</th>\n",
       "      <td>Elana Craig</td>\n",
       "      <td>MECHANICAL</td>\n",
       "      <td>12.0</td>\n",
       "      <td>91.0</td>\n",
       "      <td>4.0</td>\n",
       "      <td>NaN</td>\n",
       "      <td>4</td>\n",
       "      <td>2002-5-1</td>\n",
       "    </tr>\n",
       "    <tr>\n",
       "      <th>517</th>\n",
       "      <td>Morris Kelsey</td>\n",
       "      <td>COMPUTER</td>\n",
       "      <td>89.0</td>\n",
       "      <td>24.0</td>\n",
       "      <td>16.0</td>\n",
       "      <td>95.0</td>\n",
       "      <td>7</td>\n",
       "      <td>2003-1-12</td>\n",
       "    </tr>\n",
       "    <tr>\n",
       "      <th>518</th>\n",
       "      <td>Christian Obrien</td>\n",
       "      <td>COMPUTER</td>\n",
       "      <td>70.0</td>\n",
       "      <td>7.0</td>\n",
       "      <td>38.0</td>\n",
       "      <td>NaN</td>\n",
       "      <td>4</td>\n",
       "      <td>2002-12-27</td>\n",
       "    </tr>\n",
       "    <tr>\n",
       "      <th>519</th>\n",
       "      <td>Bobbi Orielly</td>\n",
       "      <td>MECHANICAL</td>\n",
       "      <td>36.0</td>\n",
       "      <td>8.0</td>\n",
       "      <td>32.0</td>\n",
       "      <td>NaN</td>\n",
       "      <td>3</td>\n",
       "      <td>2001-11-9</td>\n",
       "    </tr>\n",
       "  </tbody>\n",
       "</table>\n",
       "<p>520 rows × 8 columns</p>\n",
       "</div>"
      ],
      "text/plain": [
       "         Student Name  Department  Physics  Mathematics  Chemistry    AI   \n",
       "0            Roy Deal  MECHANICAL     61.0         68.0       53.0  73.0  \\\n",
       "1       Jayne Zamudio  MECHANICAL     53.0         76.0       71.4  51.0   \n",
       "2         Susan Giron  MECHANICAL     88.0         37.3        9.0   NaN   \n",
       "3      Paula Quintana        ENTC      NaN          NaN       10.0  72.0   \n",
       "4     Rebekah Francis  MECHANICAL     31.0         41.3        9.0  74.0   \n",
       "..                ...         ...      ...          ...        ...   ...   \n",
       "515    Michael Greene    COMPUTER      NaN          NaN      288.0  73.0   \n",
       "516       Elana Craig  MECHANICAL     12.0         91.0        4.0   NaN   \n",
       "517     Morris Kelsey    COMPUTER     89.0         24.0       16.0  95.0   \n",
       "518  Christian Obrien    COMPUTER     70.0          7.0       38.0   NaN   \n",
       "519     Bobbi Orielly  MECHANICAL     36.0          8.0       32.0   NaN   \n",
       "\n",
       "     Term Work         DOB  \n",
       "0           10  2003-10-21  \n",
       "1            6  2001-10-21  \n",
       "2           10   2001-8-11  \n",
       "3            7   2003-3-19  \n",
       "4            6   2002-2-12  \n",
       "..         ...         ...  \n",
       "515          4    2002-5-5  \n",
       "516          4    2002-5-1  \n",
       "517          7   2003-1-12  \n",
       "518          4  2002-12-27  \n",
       "519          3   2001-11-9  \n",
       "\n",
       "[520 rows x 8 columns]"
      ]
     },
     "execution_count": 13,
     "metadata": {},
     "output_type": "execute_result"
    }
   ],
   "source": [
    "df\n",
    "# We can also use print(df) or display(df)"
   ]
  },
  {
   "cell_type": "code",
   "execution_count": 14,
   "id": "61fb7ece",
   "metadata": {},
   "outputs": [
    {
     "name": "stdout",
     "output_type": "stream",
     "text": [
      "<class 'pandas.core.frame.DataFrame'>\n",
      "RangeIndex: 520 entries, 0 to 519\n",
      "Data columns (total 8 columns):\n",
      " #   Column        Non-Null Count  Dtype  \n",
      "---  ------        --------------  -----  \n",
      " 0   Student Name  520 non-null    object \n",
      " 1   Department    520 non-null    object \n",
      " 2   Physics       457 non-null    float64\n",
      " 3   Mathematics   462 non-null    float64\n",
      " 4   Chemistry     520 non-null    float64\n",
      " 5   AI            445 non-null    float64\n",
      " 6   Term Work     520 non-null    int64  \n",
      " 7   DOB           520 non-null    object \n",
      "dtypes: float64(4), int64(1), object(3)\n",
      "memory usage: 32.6+ KB\n"
     ]
    }
   ],
   "source": [
    "# Displaying info of our dataset\n",
    "\n",
    "df.info()"
   ]
  },
  {
   "cell_type": "code",
   "execution_count": 16,
   "id": "b6556895",
   "metadata": {},
   "outputs": [
    {
     "data": {
      "text/html": [
       "<div>\n",
       "<style scoped>\n",
       "    .dataframe tbody tr th:only-of-type {\n",
       "        vertical-align: middle;\n",
       "    }\n",
       "\n",
       "    .dataframe tbody tr th {\n",
       "        vertical-align: top;\n",
       "    }\n",
       "\n",
       "    .dataframe thead th {\n",
       "        text-align: right;\n",
       "    }\n",
       "</style>\n",
       "<table border=\"1\" class=\"dataframe\">\n",
       "  <thead>\n",
       "    <tr style=\"text-align: right;\">\n",
       "      <th></th>\n",
       "      <th>Physics</th>\n",
       "      <th>Mathematics</th>\n",
       "      <th>Chemistry</th>\n",
       "      <th>AI</th>\n",
       "      <th>Term Work</th>\n",
       "    </tr>\n",
       "  </thead>\n",
       "  <tbody>\n",
       "    <tr>\n",
       "      <th>count</th>\n",
       "      <td>457.000000</td>\n",
       "      <td>462.000000</td>\n",
       "      <td>520.000000</td>\n",
       "      <td>445.000000</td>\n",
       "      <td>520.000000</td>\n",
       "    </tr>\n",
       "    <tr>\n",
       "      <th>mean</th>\n",
       "      <td>58.894967</td>\n",
       "      <td>56.372294</td>\n",
       "      <td>73.330385</td>\n",
       "      <td>58.347416</td>\n",
       "      <td>5.675000</td>\n",
       "    </tr>\n",
       "    <tr>\n",
       "      <th>std</th>\n",
       "      <td>23.188442</td>\n",
       "      <td>28.181377</td>\n",
       "      <td>67.102785</td>\n",
       "      <td>27.503809</td>\n",
       "      <td>2.963514</td>\n",
       "    </tr>\n",
       "    <tr>\n",
       "      <th>min</th>\n",
       "      <td>1.000000</td>\n",
       "      <td>1.000000</td>\n",
       "      <td>1.000000</td>\n",
       "      <td>2.000000</td>\n",
       "      <td>1.000000</td>\n",
       "    </tr>\n",
       "    <tr>\n",
       "      <th>25%</th>\n",
       "      <td>42.000000</td>\n",
       "      <td>32.000000</td>\n",
       "      <td>36.000000</td>\n",
       "      <td>36.000000</td>\n",
       "      <td>3.000000</td>\n",
       "    </tr>\n",
       "    <tr>\n",
       "      <th>50%</th>\n",
       "      <td>60.000000</td>\n",
       "      <td>63.000000</td>\n",
       "      <td>56.900000</td>\n",
       "      <td>63.000000</td>\n",
       "      <td>6.000000</td>\n",
       "    </tr>\n",
       "    <tr>\n",
       "      <th>75%</th>\n",
       "      <td>76.000000</td>\n",
       "      <td>79.000000</td>\n",
       "      <td>74.250000</td>\n",
       "      <td>81.000000</td>\n",
       "      <td>8.000000</td>\n",
       "    </tr>\n",
       "    <tr>\n",
       "      <th>max</th>\n",
       "      <td>100.000000</td>\n",
       "      <td>100.000000</td>\n",
       "      <td>297.000000</td>\n",
       "      <td>100.000000</td>\n",
       "      <td>10.000000</td>\n",
       "    </tr>\n",
       "  </tbody>\n",
       "</table>\n",
       "</div>"
      ],
      "text/plain": [
       "          Physics  Mathematics   Chemistry          AI   Term Work\n",
       "count  457.000000   462.000000  520.000000  445.000000  520.000000\n",
       "mean    58.894967    56.372294   73.330385   58.347416    5.675000\n",
       "std     23.188442    28.181377   67.102785   27.503809    2.963514\n",
       "min      1.000000     1.000000    1.000000    2.000000    1.000000\n",
       "25%     42.000000    32.000000   36.000000   36.000000    3.000000\n",
       "50%     60.000000    63.000000   56.900000   63.000000    6.000000\n",
       "75%     76.000000    79.000000   74.250000   81.000000    8.000000\n",
       "max    100.000000   100.000000  297.000000  100.000000   10.000000"
      ]
     },
     "execution_count": 16,
     "metadata": {},
     "output_type": "execute_result"
    }
   ],
   "source": [
    "df.describe()\n",
    "# Here the columns with int or float values will be displayed\n"
   ]
  },
  {
   "cell_type": "code",
   "execution_count": 17,
   "id": "f005dff4",
   "metadata": {},
   "outputs": [
    {
     "data": {
      "text/plain": [
       "Student Name     0\n",
       "Department       0\n",
       "Physics         63\n",
       "Mathematics     58\n",
       "Chemistry        0\n",
       "AI              75\n",
       "Term Work        0\n",
       "DOB              0\n",
       "dtype: int64"
      ]
     },
     "execution_count": 17,
     "metadata": {},
     "output_type": "execute_result"
    }
   ],
   "source": [
    "# Find count of missing values from our dataset\n",
    "# Remember that we delibrately inserted some NaN values, so there has to be some Missing/NULL values\n",
    "# The count of missing values will vary from run to run\n",
    "\n",
    "df.isnull().sum()"
   ]
  },
  {
   "cell_type": "code",
   "execution_count": 18,
   "id": "1df59d68",
   "metadata": {},
   "outputs": [],
   "source": [
    "df['Physics'].fillna(value=df['Physics'].mean(), inplace=True)\n",
    "df['Mathematics'].fillna(value=df['Mathematics'].mean(), inplace=True)\n",
    "df['AI'].fillna(value=df['AI'].mean(), inplace=True)"
   ]
  },
  {
   "cell_type": "code",
   "execution_count": 19,
   "id": "53d42471",
   "metadata": {},
   "outputs": [
    {
     "data": {
      "text/plain": [
       "Student Name    0\n",
       "Department      0\n",
       "Physics         0\n",
       "Mathematics     0\n",
       "Chemistry       0\n",
       "AI              0\n",
       "Term Work       0\n",
       "DOB             0\n",
       "dtype: int64"
      ]
     },
     "execution_count": 19,
     "metadata": {},
     "output_type": "execute_result"
    }
   ],
   "source": [
    "df.isnull().sum()"
   ]
  },
  {
   "cell_type": "markdown",
   "id": "507cbe9d",
   "metadata": {},
   "source": [
    "# Detecting any Outliers"
   ]
  },
  {
   "cell_type": "markdown",
   "id": "5ab5d2f1",
   "metadata": {},
   "source": [
    "Detecting any Outliers\n",
    "Outliers are the data entries that are far beyond our IQR\n",
    "IQR (Inter-Quartile-Range): It is the range between absolute lower bound and upper bound of the class.\n",
    "For instance marks for any subject will always be between 0 to 100. If marks are beyond 100 or below 0 (i.e. Negative) we can call them as outliers for our dataset since they don't seem to follow our criteria. Outliers can cause our model to be misleaded by false values, hence outlier treatment is very important.\n",
    "To treat an outlier we simply need to remove it, since they cannot be scaled down or scaled up by any means.\n",
    "\n",
    "How to find outliers?\n",
    "\n",
    "Box Plots\n",
    "Scatter Plots\n",
    "Box-Whiskers Plots (Uncommon)"
   ]
  },
  {
   "cell_type": "code",
   "execution_count": 20,
   "id": "ec7a4539",
   "metadata": {},
   "outputs": [
    {
     "data": {
      "text/plain": [
       "<Axes: >"
      ]
     },
     "execution_count": 20,
     "metadata": {},
     "output_type": "execute_result"
    },
    {
     "data": {
      "image/png": "[encoded data removed]",
      "text/plain": [
       "<Figure size 640x480 with 1 Axes>"
      ]
     },
     "metadata": {},
     "output_type": "display_data"
    }
   ],
   "source": [
    "sns.boxplot(df['Physics'])"
   ]
  },
  {
   "cell_type": "code",
   "execution_count": 21,
   "id": "ae271262",
   "metadata": {},
   "outputs": [
    {
     "data": {
      "text/plain": [
       "<Axes: >"
      ]
     },
     "execution_count": 21,
     "metadata": {},
     "output_type": "execute_result"
    },
    {
     "data": {
      "image/png": "[encoded data removed]",
      "text/plain": [
       "<Figure size 640x480 with 1 Axes>"
      ]
     },
     "metadata": {},
     "output_type": "display_data"
    }
   ],
   "source": [
    "sns.boxplot(df['Mathematics'])"
   ]
  },
  {
   "cell_type": "code",
   "execution_count": 22,
   "id": "621f6e57",
   "metadata": {},
   "outputs": [
    {
     "data": {
      "text/plain": [
       "<Axes: >"
      ]
     },
     "execution_count": 22,
     "metadata": {},
     "output_type": "execute_result"
    },
    {
     "data": {
      "image/png": "[encoded data removed]",
      "text/plain": [
       "<Figure size 640x480 with 1 Axes>"
      ]
     },
     "metadata": {},
     "output_type": "display_data"
    }
   ],
   "source": [
    "sns.boxplot(df['Chemistry'])"
   ]
  },
  {
   "cell_type": "code",
   "execution_count": 25,
   "id": "a34bea83",
   "metadata": {},
   "outputs": [
    {
     "data": {
      "text/plain": [
       "<Axes: >"
      ]
     },
     "execution_count": 25,
     "metadata": {},
     "output_type": "execute_result"
    },
    {
     "data": {
      "image/png": "[encoded data removed]",
      "text/plain": [
       "<Figure size 640x480 with 1 Axes>"
      ]
     },
     "metadata": {},
     "output_type": "display_data"
    }
   ],
   "source": [
    "sns.boxplot(df['AI'])"
   ]
  },
  {
   "cell_type": "markdown",
   "id": "0c1a5631",
   "metadata": {},
   "source": [
    "# There are outliers only in Chemistry, rest contains no outliers."
   ]
  },
  {
   "cell_type": "markdown",
   "id": "28ab3571",
   "metadata": {},
   "source": [
    "# "
   ]
  },
  {
   "cell_type": "markdown",
   "id": "4a52cf7b",
   "metadata": {},
   "source": [
    "# Treating Outliers of Physics using IQR"
   ]
  },
  {
   "cell_type": "code",
   "execution_count": 26,
   "id": "03b106f6",
   "metadata": {},
   "outputs": [
    {
     "name": "stdout",
     "output_type": "stream",
     "text": [
      "Old Shape of Dataset: (520, 8)\n",
      "New Shape of Dataset: (520, 8)\n"
     ]
    },
    {
     "name": "stderr",
     "output_type": "stream",
     "text": [
      "C:\\Users\\Nishigandha\\AppData\\Local\\Temp\\ipykernel_25548\\1876182883.py:1: DeprecationWarning: the `interpolation=` argument to percentile was renamed to `method=`, which has additional options.\n",
      "Users of the modes 'nearest', 'lower', 'higher', or 'midpoint' are encouraged to review the method they used. (Deprecated NumPy 1.22)\n",
      "  Q1 = np.percentile(df['AI'], 25, interpolation = 'midpoint')\n",
      "C:\\Users\\Nishigandha\\AppData\\Local\\Temp\\ipykernel_25548\\1876182883.py:2: DeprecationWarning: the `interpolation=` argument to percentile was renamed to `method=`, which has additional options.\n",
      "Users of the modes 'nearest', 'lower', 'higher', or 'midpoint' are encouraged to review the method they used. (Deprecated NumPy 1.22)\n",
      "  Q3 = np.percentile(df['AI'], 75, interpolation = 'midpoint')\n"
     ]
    }
   ],
   "source": [
    "Q1 = np.percentile(df['AI'], 25, interpolation = 'midpoint')\n",
    "Q3 = np.percentile(df['AI'], 75, interpolation = 'midpoint')\n",
    "IQR = Q3 - Q1\n",
    "\n",
    "print(\"Old Shape of Dataset: {}\".format(df.shape))\n",
    "\n",
    "# Upper bound\n",
    "upper = np.where(df['AI'] >= (Q3+1.5*IQR))\n",
    "\n",
    "# Lower bound\n",
    "lower = np.where(df['AI'] <= (Q1-1.5*IQR))\n",
    "\n",
    "df.drop(upper[0], inplace = True)\n",
    "df.drop(lower[0], inplace = True)\n",
    " \n",
    "print(\"New Shape of Dataset: {}\".format(df.shape))"
   ]
  },
  {
   "cell_type": "markdown",
   "id": "ef62c0cf",
   "metadata": {},
   "source": [
    "# Treating outlier of Chemistry"
   ]
  },
  {
   "cell_type": "code",
   "execution_count": 28,
   "id": "adc43962",
   "metadata": {},
   "outputs": [
    {
     "name": "stdout",
     "output_type": "stream",
     "text": [
      "Old Shape of Dataset: (520, 8)\n",
      "New Shape of Dataset: (450, 8)\n"
     ]
    },
    {
     "name": "stderr",
     "output_type": "stream",
     "text": [
      "C:\\Users\\Nishigandha\\AppData\\Local\\Temp\\ipykernel_25548\\2862542721.py:3: DeprecationWarning: the `interpolation=` argument to percentile was renamed to `method=`, which has additional options.\n",
      "Users of the modes 'nearest', 'lower', 'higher', or 'midpoint' are encouraged to review the method they used. (Deprecated NumPy 1.22)\n",
      "  Q1 = np.percentile(df['Chemistry'], 25, interpolation = 'midpoint')\n",
      "C:\\Users\\Nishigandha\\AppData\\Local\\Temp\\ipykernel_25548\\2862542721.py:4: DeprecationWarning: the `interpolation=` argument to percentile was renamed to `method=`, which has additional options.\n",
      "Users of the modes 'nearest', 'lower', 'higher', or 'midpoint' are encouraged to review the method they used. (Deprecated NumPy 1.22)\n",
      "  Q3 = np.percentile(df['Chemistry'], 75, interpolation = 'midpoint')\n"
     ]
    }
   ],
   "source": [
    "# Note: If there is any warnings/errors in this bit of code, just re-run from the start, EVERYTHNG!\n",
    "\n",
    "Q1 = np.percentile(df['Chemistry'], 25, interpolation = 'midpoint')\n",
    "Q3 = np.percentile(df['Chemistry'], 75, interpolation = 'midpoint')\n",
    "IQR = Q3 - Q1\n",
    "\n",
    "print(\"Old Shape of Dataset: {}\".format(df.shape))\n",
    "\n",
    "# Upper bound\n",
    "upper = np.where(df['Chemistry'] >= (Q3+1.5*IQR))\n",
    "\n",
    "# Lower bound\n",
    "lower = np.where(df['Chemistry'] <= (Q1-1.5*IQR))\n",
    "\n",
    "df.drop(upper[0], inplace = True)\n",
    "df.drop(lower[0], inplace = True)\n",
    " \n",
    "print(\"New Shape of Dataset: {}\".format(df.shape))"
   ]
  },
  {
   "cell_type": "code",
   "execution_count": 33,
   "id": "15d9e4bc",
   "metadata": {},
   "outputs": [
    {
     "data": {
      "text/plain": [
       "<Axes: >"
      ]
     },
     "execution_count": 33,
     "metadata": {},
     "output_type": "execute_result"
    },
    {
     "data": {
      "image/png": "[encoded data removed]",
      "text/plain": [
       "<Figure size 640x480 with 1 Axes>"
      ]
     },
     "metadata": {},
     "output_type": "display_data"
    }
   ],
   "source": [
    "sns.boxplot(df['Chemistry'])"
   ]
  },
  {
   "cell_type": "markdown",
   "id": "95ecd82b",
   "metadata": {},
   "source": [
    "# Part-III Data Transformation"
   ]
  },
  {
   "cell_type": "markdown",
   "id": "5090431c",
   "metadata": {},
   "source": [
    "# "
   ]
  },
  {
   "cell_type": "markdown",
   "id": "9f9a81e3",
   "metadata": {},
   "source": [
    "Data Transformation increases the read-ability of any column"
   ]
  },
  {
   "cell_type": "markdown",
   "id": "f4d5f3bc",
   "metadata": {},
   "source": [
    "Here we choose to transform the 'DOB' column and break it down into 'Birth_Year' and 'Birth_Month'."
   ]
  },
  {
   "cell_type": "code",
   "execution_count": 35,
   "id": "bb8f649c",
   "metadata": {},
   "outputs": [],
   "source": [
    "df['DOB'] = pd.to_datetime(df['DOB'])"
   ]
  },
  {
   "cell_type": "code",
   "execution_count": 36,
   "id": "7f66cffa",
   "metadata": {},
   "outputs": [
    {
     "name": "stdout",
     "output_type": "stream",
     "text": [
      "<class 'pandas.core.frame.DataFrame'>\n",
      "Index: 450 entries, 0 to 519\n",
      "Data columns (total 8 columns):\n",
      " #   Column        Non-Null Count  Dtype         \n",
      "---  ------        --------------  -----         \n",
      " 0   Student Name  450 non-null    object        \n",
      " 1   Department    450 non-null    object        \n",
      " 2   Physics       450 non-null    float64       \n",
      " 3   Mathematics   450 non-null    float64       \n",
      " 4   Chemistry     450 non-null    float64       \n",
      " 5   AI            450 non-null    float64       \n",
      " 6   Term Work     450 non-null    int64         \n",
      " 7   DOB           450 non-null    datetime64[ns]\n",
      "dtypes: datetime64[ns](1), float64(4), int64(1), object(2)\n",
      "memory usage: 47.8+ KB\n"
     ]
    }
   ],
   "source": [
    "df.info()"
   ]
  },
  {
   "cell_type": "code",
   "execution_count": 39,
   "id": "a7fb42f6",
   "metadata": {},
   "outputs": [],
   "source": [
    "\n",
    "df['Birth_Year'] = pd.DatetimeIndex(df['DOB']).year"
   ]
  },
  {
   "cell_type": "code",
   "execution_count": 40,
   "id": "2e0f4ec8",
   "metadata": {},
   "outputs": [],
   "source": [
    "df['Birth_Month'] = df['DOB'].dt.month_name(locale='English')"
   ]
  },
  {
   "cell_type": "code",
   "execution_count": 41,
   "id": "472a8e5c",
   "metadata": {},
   "outputs": [
    {
     "data": {
      "text/html": [
       "<div>\n",
       "<style scoped>\n",
       "    .dataframe tbody tr th:only-of-type {\n",
       "        vertical-align: middle;\n",
       "    }\n",
       "\n",
       "    .dataframe tbody tr th {\n",
       "        vertical-align: top;\n",
       "    }\n",
       "\n",
       "    .dataframe thead th {\n",
       "        text-align: right;\n",
       "    }\n",
       "</style>\n",
       "<table border=\"1\" class=\"dataframe\">\n",
       "  <thead>\n",
       "    <tr style=\"text-align: right;\">\n",
       "      <th></th>\n",
       "      <th>Student Name</th>\n",
       "      <th>Department</th>\n",
       "      <th>Physics</th>\n",
       "      <th>Mathematics</th>\n",
       "      <th>Chemistry</th>\n",
       "      <th>AI</th>\n",
       "      <th>Term Work</th>\n",
       "      <th>DOB</th>\n",
       "      <th>Birth_Year</th>\n",
       "      <th>Birth_Month</th>\n",
       "    </tr>\n",
       "  </thead>\n",
       "  <tbody>\n",
       "    <tr>\n",
       "      <th>0</th>\n",
       "      <td>Roy Deal</td>\n",
       "      <td>MECHANICAL</td>\n",
       "      <td>61.000000</td>\n",
       "      <td>68.000000</td>\n",
       "      <td>53.0</td>\n",
       "      <td>73.000000</td>\n",
       "      <td>10</td>\n",
       "      <td>2003-10-21</td>\n",
       "      <td>2003</td>\n",
       "      <td>October</td>\n",
       "    </tr>\n",
       "    <tr>\n",
       "      <th>1</th>\n",
       "      <td>Jayne Zamudio</td>\n",
       "      <td>MECHANICAL</td>\n",
       "      <td>53.000000</td>\n",
       "      <td>76.000000</td>\n",
       "      <td>71.4</td>\n",
       "      <td>51.000000</td>\n",
       "      <td>6</td>\n",
       "      <td>2001-10-21</td>\n",
       "      <td>2001</td>\n",
       "      <td>October</td>\n",
       "    </tr>\n",
       "    <tr>\n",
       "      <th>2</th>\n",
       "      <td>Susan Giron</td>\n",
       "      <td>MECHANICAL</td>\n",
       "      <td>88.000000</td>\n",
       "      <td>37.300000</td>\n",
       "      <td>9.0</td>\n",
       "      <td>58.347416</td>\n",
       "      <td>10</td>\n",
       "      <td>2001-08-11</td>\n",
       "      <td>2001</td>\n",
       "      <td>August</td>\n",
       "    </tr>\n",
       "    <tr>\n",
       "      <th>3</th>\n",
       "      <td>Paula Quintana</td>\n",
       "      <td>ENTC</td>\n",
       "      <td>58.894967</td>\n",
       "      <td>56.372294</td>\n",
       "      <td>10.0</td>\n",
       "      <td>72.000000</td>\n",
       "      <td>7</td>\n",
       "      <td>2003-03-19</td>\n",
       "      <td>2003</td>\n",
       "      <td>March</td>\n",
       "    </tr>\n",
       "    <tr>\n",
       "      <th>4</th>\n",
       "      <td>Rebekah Francis</td>\n",
       "      <td>MECHANICAL</td>\n",
       "      <td>31.000000</td>\n",
       "      <td>41.300000</td>\n",
       "      <td>9.0</td>\n",
       "      <td>74.000000</td>\n",
       "      <td>6</td>\n",
       "      <td>2002-02-12</td>\n",
       "      <td>2002</td>\n",
       "      <td>February</td>\n",
       "    </tr>\n",
       "    <tr>\n",
       "      <th>...</th>\n",
       "      <td>...</td>\n",
       "      <td>...</td>\n",
       "      <td>...</td>\n",
       "      <td>...</td>\n",
       "      <td>...</td>\n",
       "      <td>...</td>\n",
       "      <td>...</td>\n",
       "      <td>...</td>\n",
       "      <td>...</td>\n",
       "      <td>...</td>\n",
       "    </tr>\n",
       "    <tr>\n",
       "      <th>514</th>\n",
       "      <td>William Whitcomb</td>\n",
       "      <td>ENTC</td>\n",
       "      <td>53.000000</td>\n",
       "      <td>64.000000</td>\n",
       "      <td>32.0</td>\n",
       "      <td>57.000000</td>\n",
       "      <td>4</td>\n",
       "      <td>2002-12-24</td>\n",
       "      <td>2002</td>\n",
       "      <td>December</td>\n",
       "    </tr>\n",
       "    <tr>\n",
       "      <th>516</th>\n",
       "      <td>Elana Craig</td>\n",
       "      <td>MECHANICAL</td>\n",
       "      <td>12.000000</td>\n",
       "      <td>91.000000</td>\n",
       "      <td>4.0</td>\n",
       "      <td>58.347416</td>\n",
       "      <td>4</td>\n",
       "      <td>2002-05-01</td>\n",
       "      <td>2002</td>\n",
       "      <td>May</td>\n",
       "    </tr>\n",
       "    <tr>\n",
       "      <th>517</th>\n",
       "      <td>Morris Kelsey</td>\n",
       "      <td>COMPUTER</td>\n",
       "      <td>89.000000</td>\n",
       "      <td>24.000000</td>\n",
       "      <td>16.0</td>\n",
       "      <td>95.000000</td>\n",
       "      <td>7</td>\n",
       "      <td>2003-01-12</td>\n",
       "      <td>2003</td>\n",
       "      <td>January</td>\n",
       "    </tr>\n",
       "    <tr>\n",
       "      <th>518</th>\n",
       "      <td>Christian Obrien</td>\n",
       "      <td>COMPUTER</td>\n",
       "      <td>70.000000</td>\n",
       "      <td>7.000000</td>\n",
       "      <td>38.0</td>\n",
       "      <td>58.347416</td>\n",
       "      <td>4</td>\n",
       "      <td>2002-12-27</td>\n",
       "      <td>2002</td>\n",
       "      <td>December</td>\n",
       "    </tr>\n",
       "    <tr>\n",
       "      <th>519</th>\n",
       "      <td>Bobbi Orielly</td>\n",
       "      <td>MECHANICAL</td>\n",
       "      <td>36.000000</td>\n",
       "      <td>8.000000</td>\n",
       "      <td>32.0</td>\n",
       "      <td>58.347416</td>\n",
       "      <td>3</td>\n",
       "      <td>2001-11-09</td>\n",
       "      <td>2001</td>\n",
       "      <td>November</td>\n",
       "    </tr>\n",
       "  </tbody>\n",
       "</table>\n",
       "<p>450 rows × 10 columns</p>\n",
       "</div>"
      ],
      "text/plain": [
       "         Student Name  Department    Physics  Mathematics  Chemistry   \n",
       "0            Roy Deal  MECHANICAL  61.000000    68.000000       53.0  \\\n",
       "1       Jayne Zamudio  MECHANICAL  53.000000    76.000000       71.4   \n",
       "2         Susan Giron  MECHANICAL  88.000000    37.300000        9.0   \n",
       "3      Paula Quintana        ENTC  58.894967    56.372294       10.0   \n",
       "4     Rebekah Francis  MECHANICAL  31.000000    41.300000        9.0   \n",
       "..                ...         ...        ...          ...        ...   \n",
       "514  William Whitcomb        ENTC  53.000000    64.000000       32.0   \n",
       "516       Elana Craig  MECHANICAL  12.000000    91.000000        4.0   \n",
       "517     Morris Kelsey    COMPUTER  89.000000    24.000000       16.0   \n",
       "518  Christian Obrien    COMPUTER  70.000000     7.000000       38.0   \n",
       "519     Bobbi Orielly  MECHANICAL  36.000000     8.000000       32.0   \n",
       "\n",
       "            AI  Term Work        DOB  Birth_Year Birth_Month  \n",
       "0    73.000000         10 2003-10-21        2003     October  \n",
       "1    51.000000          6 2001-10-21        2001     October  \n",
       "2    58.347416         10 2001-08-11        2001      August  \n",
       "3    72.000000          7 2003-03-19        2003       March  \n",
       "4    74.000000          6 2002-02-12        2002    February  \n",
       "..         ...        ...        ...         ...         ...  \n",
       "514  57.000000          4 2002-12-24        2002    December  \n",
       "516  58.347416          4 2002-05-01        2002         May  \n",
       "517  95.000000          7 2003-01-12        2003     January  \n",
       "518  58.347416          4 2002-12-27        2002    December  \n",
       "519  58.347416          3 2001-11-09        2001    November  \n",
       "\n",
       "[450 rows x 10 columns]"
      ]
     },
     "execution_count": 41,
     "metadata": {},
     "output_type": "execute_result"
    }
   ],
   "source": []
  },
  {
   "cell_type": "code",
   "execution_count": null,
   "id": "7f115052",
   "metadata": {},
   "outputs": [],
   "source": []
  }
 ],
 "metadata": {
  "kernelspec": {
   "display_name": "Python 3 (ipykernel)",
   "language": "python",
   "name": "python3"
  },
  "language_info": {
   "codemirror_mode": {
    "name": "ipython",
    "version": 3
   },
   "file_extension": ".py",
   "mimetype": "text/x-python",
   "name": "python",
   "nbconvert_exporter": "python",
   "pygments_lexer": "ipython3",
   "version": "3.11.3"
  }
 },
 "nbformat": 4,
 "nbformat_minor": 5
}
