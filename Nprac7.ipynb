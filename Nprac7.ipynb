{
 "cells": [
  {
   "cell_type": "code",
   "execution_count": 1,
   "id": "72d19873",
   "metadata": {},
   "outputs": [],
   "source": [
    "import nltk"
   ]
  },
  {
   "cell_type": "code",
   "execution_count": 2,
   "id": "bdbd9d42",
   "metadata": {},
   "outputs": [],
   "source": [
    "text = 'Nisha is the best person in this world. i Like painting. Coding is my hobby. Hello world!!'"
   ]
  },
  {
   "cell_type": "code",
   "execution_count": 9,
   "id": "b9114cfa",
   "metadata": {},
   "outputs": [
    {
     "name": "stdout",
     "output_type": "stream",
     "text": [
      "['Nisha is the best person in this world.', 'i Like painting.', 'Coding is my hobby.', 'Hello world!', '!']\n"
     ]
    }
   ],
   "source": [
    "from nltk import sent_tokenize\n",
    "\n",
    "tokenized_word = sent_tokenize(text)\n",
    "print(tokenized_word)"
   ]
  },
  {
   "cell_type": "code",
   "execution_count": 10,
   "id": "6ce10a3f",
   "metadata": {},
   "outputs": [
    {
     "name": "stdout",
     "output_type": "stream",
     "text": [
      "['Nisha', 'is', 'the', 'best', 'person', 'in', 'this', 'world', '.', 'i', 'Like', 'painting', '.', 'Coding', 'is', 'my', 'hobby', '.', 'Hello', 'world', '!', '!']\n"
     ]
    }
   ],
   "source": [
    "from nltk import word_tokenize\n",
    "\n",
    "word = word_tokenize(text)\n",
    "print(word)"
   ]
  },
  {
   "cell_type": "code",
   "execution_count": 30,
   "id": "b9c83a6c",
   "metadata": {},
   "outputs": [
    {
     "name": "stdout",
     "output_type": "stream",
     "text": [
      "POS Tags: [('Nisha', 'NNP'), ('is', 'VBZ'), ('the', 'DT'), ('best', 'JJS'), ('person', 'NN'), ('in', 'IN'), ('this', 'DT'), ('world', 'NN'), ('.', '.'), ('i', 'NN'), ('Like', 'IN'), ('painting', 'VBG'), ('.', '.'), ('Coding', 'NN'), ('is', 'VBZ'), ('my', 'PRP$'), ('hobby', 'NN'), ('.', '.'), ('Hello', 'NNP'), ('world', 'NN'), ('!', '.'), ('!', '.')]\n"
     ]
    }
   ],
   "source": [
    "# POS tagging\n",
    "pos_tags = nltk.pos_tag(word)  #The pos_tag() function takes the list of tokens as input and assigns \n",
    "                                         #POS tags to each token based on its grammatical category.\n",
    "print(\"POS Tags:\", pos_tags)"
   ]
  },
  {
   "cell_type": "code",
   "execution_count": 31,
   "id": "5afc799d",
   "metadata": {},
   "outputs": [
    {
     "name": "stdout",
     "output_type": "stream",
     "text": [
      "{'each', 'when', \"needn't\", 'doesn', 'ma', \"couldn't\", 'by', 'didn', 'very', 'hadn', 'he', 'our', \"you'd\", 'not', 'before', 'just', 'during', 'hasn', 'weren', 'y', 'ain', \"weren't\", 'most', 'no', \"isn't\", 'where', \"hadn't\", 'below', 'nor', 'both', 'all', 'haven', 'you', \"mustn't\", 'i', 'herself', 'needn', 'd', 'be', 'few', \"haven't\", \"you're\", 'this', 'should', 'her', 'which', 'they', 'in', 'off', \"wasn't\", \"that'll\", 'above', 'hers', 'same', 'shouldn', 'who', 'under', 'himself', 'ourselves', 'what', 'own', 'their', 'him', 'for', 'won', \"shan't\", 'being', 'from', \"it's\", \"mightn't\", 'it', \"don't\", 'and', 'wasn', 'she', 'after', \"shouldn't\", 'these', 'here', 'them', 'did', 'a', 'against', 'don', 'aren', \"you'll\", 've', 'me', 'or', 'isn', 'are', 'theirs', 's', 'too', 'as', 'out', 'down', \"she's\", 'my', 'up', 'those', 'do', 'once', \"won't\", 'ours', 'there', 'any', 'over', 'further', 'such', 'so', 'than', 'now', 'having', 'between', 'yourself', 'whom', 'was', \"didn't\", 'have', 'of', 'has', 'if', 'is', 'itself', 'because', 'on', 'mustn', 'his', 'll', 'some', 'mightn', 'had', 'can', 'through', 'its', 'o', \"doesn't\", 'only', \"wouldn't\", 'myself', 'the', 'into', 'couldn', 'at', 'doing', \"aren't\", 'but', \"hasn't\", 'to', 'yours', 'were', 't', 'am', 'about', \"you've\", 'that', 'while', 'again', 'other', 'then', \"should've\", 'an', 'we', 'your', 'wouldn', 'does', 'shan', 'with', 'will', 'been', 'why', 'how', 're', 'until', 'themselves', 'yourselves', 'more', 'm'}\n"
     ]
    }
   ],
   "source": [
    "from nltk.corpus import stopwords              \n",
    "stop_words=set(stopwords.words(\"english\"))\n",
    "print(stop_words)"
   ]
  },
  {
   "cell_type": "code",
   "execution_count": 33,
   "id": "017e7b3c",
   "metadata": {},
   "outputs": [
    {
     "name": "stdout",
     "output_type": "stream",
     "text": [
      "Tokenized Sentence: ['Nisha', 'is', 'the', 'best', 'person', 'in', 'this', 'world', '.', 'i', 'Like', 'painting', '.', 'Coding', 'is', 'my', 'hobby', '.', 'Hello', 'world', '!', '!']\n",
      "\n",
      "Filterd Sentence: ['Nisha', 'best', 'person', 'world', '.', 'Like', 'painting', '.', 'Coding', 'hobby', '.', 'Hello', 'world', '!', '!']\n"
     ]
    }
   ],
   "source": [
    "filtered_sent=[]\n",
    "for w in word:\n",
    "    if w not in stop_words:\n",
    "        filtered_sent.append(w)\n",
    "        \n",
    "print(\"Tokenized Sentence:\",word)\n",
    "print(\"\\nFilterd Sentence:\",filtered_sent)"
   ]
  },
  {
   "cell_type": "code",
   "execution_count": 37,
   "id": "bf223d50",
   "metadata": {},
   "outputs": [
    {
     "name": "stdout",
     "output_type": "stream",
     "text": [
      "Filtered Sentence: ['Nisha', 'best', 'person', 'world', '.', 'Like', 'painting', '.', 'Coding', 'hobby', '.', 'Hello', 'world', '!', '!']\n",
      "\n",
      "Stemmed Sentence: ['nisha', 'best', 'person', 'world', '.', 'like', 'paint', '.', 'code', 'hobbi', '.', 'hello', 'world', '!', '!']\n"
     ]
    }
   ],
   "source": [
    "from nltk.stem import PorterStemmer\n",
    "\n",
    "stemmer = PorterStemmer()\n",
    "\n",
    "stemmed_words=[]\n",
    "for w in filtered_sent:\n",
    "    stemmed_words.append(stemmer.stem(w))\n",
    "    \n",
    "    \n",
    "print(\"Filtered Sentence:\",filtered_sent)\n",
    "print(\"\\nStemmed Sentence:\",stemmed_words)    "
   ]
  },
  {
   "cell_type": "code",
   "execution_count": 44,
   "id": "54e5f00d",
   "metadata": {},
   "outputs": [
    {
     "name": "stdout",
     "output_type": "stream",
     "text": [
      "Lemmatized Word: ['Nisha', 'best', 'person', 'world', '.', 'Like', 'paint', '.', 'Coding', 'hobby', '.', 'Hello', 'world', '!', '!']\n",
      "\n",
      "Stemmed Word: ['nisha', 'best', 'person', 'world', '.', 'like', 'paint', '.', 'code', 'hobbi', '.', 'hello', 'world', '!', '!']\n"
     ]
    }
   ],
   "source": [
    "from nltk.stem import WordNetLemmatizer\n",
    "\n",
    "lem = WordNetLemmatizer()\n",
    "\n",
    "lemma_word_list = []\n",
    "\n",
    "for w in filtered_sent:\n",
    "    lemma = lem.lemmatize(w,\"v\")\n",
    "    lemma_word_list.append(lemma)\n",
    "    \n",
    "print(\"Lemmatized Word:\",lemma_word_list)\n",
    "print(\"\\nStemmed Word:\",stemmed_words)"
   ]
  },
  {
   "cell_type": "code",
   "execution_count": 39,
   "id": "302197e4",
   "metadata": {},
   "outputs": [
    {
     "name": "stdout",
     "output_type": "stream",
     "text": [
      "<FreqDist with 11 samples and 15 outcomes>\n"
     ]
    }
   ],
   "source": [
    "from nltk.probability import FreqDist\n",
    "fdist = FreqDist(lemma_word_list)\n",
    "print(fdist)"
   ]
  },
  {
   "cell_type": "code",
   "execution_count": 40,
   "id": "1a06cd8e",
   "metadata": {},
   "outputs": [
    {
     "data": {
      "text/plain": [
       "[('.', 3), ('world', 2)]"
      ]
     },
     "execution_count": 40,
     "metadata": {},
     "output_type": "execute_result"
    }
   ],
   "source": [
    "fdist.most_common(2)"
   ]
  },
  {
   "cell_type": "code",
   "execution_count": null,
   "id": "eb661ebb",
   "metadata": {},
   "outputs": [],
   "source": []
  }
 ],
 "metadata": {
  "kernelspec": {
   "display_name": "Python 3 (ipykernel)",
   "language": "python",
   "name": "python3"
  },
  "language_info": {
   "codemirror_mode": {
    "name": "ipython",
    "version": 3
   },
   "file_extension": ".py",
   "mimetype": "text/x-python",
   "name": "python",
   "nbconvert_exporter": "python",
   "pygments_lexer": "ipython3",
   "version": "3.11.3"
  }
 },
 "nbformat": 4,
 "nbformat_minor": 5
}
